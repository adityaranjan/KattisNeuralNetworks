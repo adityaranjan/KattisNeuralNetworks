{
  "nbformat": 4,
  "nbformat_minor": 0,
  "metadata": {
    "colab": {
      "name": "KattisTwoClass.ipynb",
      "provenance": [],
      "collapsed_sections": []
    },
    "kernelspec": {
      "name": "python3",
      "display_name": "Python 3"
    }
  },
  "cells": [
    {
      "cell_type": "code",
      "metadata": {
        "id": "hvYjSR0WsO0-",
        "colab_type": "code",
        "outputId": "13cdf310-b27a-4eba-e349-1c73c12ca99a",
        "colab": {
          "base_uri": "https://localhost:8080/",
          "height": 224
        }
      },
      "source": [
        "## Program description: Two-Class Binary Neural Network for Handwritten Digits ##\n",
        "## Name of Author: Aditya Ranjan ##\n",
        "## Link to problem: https://open.kattis.com/problems/mnist2class ##\n",
        "## Training Set File can be found on the link above ##\n",
        "## ----------------------------------------------------------------------------- ##\n",
        "\n",
        "\n",
        "#Import Essential Libraries\n",
        "import math\n",
        "import random\n",
        "import numpy as np\n",
        "from tqdm import tqdm\n",
        "\n",
        "\n",
        "#Creating Progress Bars for Training and Testing\n",
        "trainingProgress = tqdm(total = 11846, position = 0)\n",
        "testingProgress = tqdm(total = 11846, position = 0)\n",
        "\n",
        "\n",
        "#Modified Sign Function for Perceptron Nodes\n",
        "def sign(perceptronNode):\n",
        "    if perceptronNode <= 0:\n",
        "        return -1\n",
        "    else:\n",
        "        return 1\n",
        "\n",
        "\n",
        "#Getting training data from the input file\n",
        "inputFile = open(\"TwoClassTrain.txt\")\n",
        "\n",
        "\n",
        "#Creating Weights and Weight Sums Matrices (weight sums is the sum of weights from each training example)\n",
        "#Note - Weights are binary (either -1 or 1)\n",
        "weights = np.array([[random.choice([-1, 1]) for rowNum in range(51)] for columnNum in range(30)])\n",
        "weightSums = np.array([[0 for rowNum in range(51)] for columnNum in range(30)])\n",
        "\n",
        "\n",
        "#Indicates that first progress bar shows training progress\n",
        "print(\"\\n\\n Training Progress:\")\n",
        "\n",
        "\n",
        "#Iterate through each training example\n",
        "for trainingNum in range(11846):\n",
        "\n",
        "    #Forward propagation - computes each layer of the network using the weights and inputs \n",
        "    inputLine = list(map(int, inputFile.readline().split(\" \"))) #list of values from current training example\n",
        "    inputNodes = np.array(inputLine[0: 51]).reshape((51, 1)) #51 x values (compressed pixel information) of current training example\n",
        "    trueOutput = inputLine[51] #y value of training example (indicates if the handwritten digit is zero or not)\n",
        "\n",
        "    perceptronNodes = np.sign(np.dot(weights, inputNodes)) #creates second layer of network - dot product of weights and inputs\n",
        "    for rowNum in range(30): #loop to apply modified sign function to each perceptron node\n",
        "        if perceptronNodes[rowNum] == 0:\n",
        "            perceptronNodes[rowNum] -= 1\n",
        "\n",
        "    sumNodes = np.array([sum(perceptronNodes[(rowNum * 15) : ((rowNum * 15) + 15)]) for rowNum in range(2)]).reshape(2, 1) #creates third layer of network - 2 nodes which are the sums of 15 consecutive perceptron nodes\n",
        "    \n",
        "    #Backward Propagation - calculates the amount of perceptron nodes and weights to change\n",
        "    for sumNodeNum in range(2): #iterating through each sum node\n",
        "        if sumNodeNum == trueOutput: #if the sum node matches the true output of the training example\n",
        "            numPerceptronsToChange = (random.choice([7, 9, 11, 13, 15]) - sumNodes[sumNodeNum]) / 2 #calculates the number of perceptron nodes to change to push the current sum node value up to either 7, 9, 11, 13, or 15\n",
        "            valToChange = -1 #changes needed amount of perceptron nodes and weights with a value of -1 to a value of 1\n",
        "        elif sumNodes[sumNodeNum] > -5: #if the sum node doesn't match the true output of the training example and the sum node value is greater than -5\n",
        "            numPerceptronsToChange = (random.choice([5, 7, 9, 11, 13, 15]) + sumNodes[sumNodeNum]) / 2 #calculates the number of perceptron nodes to change to push the current sum node value down to either -5, -7, -9, -11, -13, or -15\n",
        "            valToChange = 1 #changes needed amount of perceptron nodes and weights with a value of 1 to a value of -1\n",
        "        if sumNodeNum == trueOutput or sumNodes[sumNodeNum] > -5: #doesn't change perceptron nodes and weights for sum nodes that don't match true output or have values less than -5\n",
        "            numPerceptronsChanged = 0\n",
        "            for perceptronNum in range((sumNodeNum * 15), ((sumNodeNum * 15) + 15)): #iterates through 15 perceptron nodes for respective sum node\n",
        "                if numPerceptronsChanged == numPerceptronsToChange:\n",
        "                    break  #breaks out of loop as soon as needed number of perceptron nodes have been changed\n",
        "                if perceptronNodes[perceptronNum] == valToChange: #changes perceptron node if the value is to be changed\n",
        "                    if sumNodeNum == trueOutput: #calculation for sum node that matches the true output\n",
        "                        numToFlip = math.ceil(((1 - int(np.sum((weights[perceptronNum] * inputNodes.T), axis = 1))) / 2)) #calculates number of weights to change based on dot product of weights and inputs\n",
        "                    else: #calculation for sum node that doesn't match the true output\n",
        "                        numToFlip = math.ceil(int(np.sum((weights[perceptronNum] * inputNodes.T), axis = 1)) / 2) #calculates number of weights to change based on dot product of weights and inputs\n",
        "\n",
        "                    #Gradient Descent - changes necessary amount of weights which in turn changes the perceptron nodes and sum nodes as needed\n",
        "                    numFlipped = 0\n",
        "                    weightsIndex = random.choice([inputNum for inputNum in range(51)]) #starts process at a random index \n",
        "                    weightsCounter = random.choice([-1, 1]) #either iterates forward or backward randomly\n",
        "                    while True:\n",
        "                        if numFlipped == numToFlip:\n",
        "                            break #breaks out of loop as soon as needed number of weights have been changed\n",
        "                        if (weights[perceptronNum][weightsIndex] * inputNodes[weightsIndex]) == valToChange: #changes weight if the value is to be changed\n",
        "                            weights[perceptronNum][weightsIndex] *= -1 #flips the weight value\n",
        "                            numFlipped += 1 #updates the number of weights changed\n",
        "                        weightsIndex = (weightsIndex + weightsCounter) % 51 #calculates the next index based on counter and current index\n",
        "                    numPerceptronsChanged += 1 #updates the number of perceptron nodes changed\n",
        "\n",
        "    weightSums += weights #adds weights to weight sums\n",
        "\n",
        "    trainingProgress.update(1) #updates training progress bar\n",
        "\n",
        "\n",
        "#Applies modified sign function to each weight sum\n",
        "for rowNum in range(30): \n",
        "    weightSums[rowNum] = np.array(list(map(sign, weightSums[rowNum].tolist())))\n",
        "\n",
        "\n",
        "#Prints trained weights as a list of strings\n",
        "outputList = []\n",
        "for rowNum in range(30):\n",
        "  outputList.append(' '.join(map(str, weightSums[rowNum])))\n",
        "print(\"\\n\\nTrained Weights:\")\n",
        "print(outputList)\n",
        "\n",
        "\n",
        "#Indicates that second progress bar shows testing progress\n",
        "print(\"\\n Testing Progress:\")\n",
        "\n",
        "\n",
        "#Testing the trained weights on the training examples\n",
        "accuracyCount = 0 #variable to count number of right predictions\n",
        "inputFile = open(\"TwoClassTrain.txt\") #opening training set file\n",
        "for trainingNum in range(11846): #iterating through each training example\n",
        "\n",
        "    #Forward Propagation with trained weights (same as forward propagation for training)\n",
        "    inputLine = list(map(int, inputFile.readline().split(\" \")))\n",
        "    inputNodes = np.array(inputLine[0: 51]).reshape((51, 1))\n",
        "    trueOutput = inputLine[51]\n",
        "    perceptronNodes = np.sign(np.dot(weightSums, inputNodes))\n",
        "    for rowNum in range(30):\n",
        "        if perceptronNodes[rowNum] == 0:\n",
        "            perceptronNodes[rowNum] -= 1\n",
        "    sumNodes = np.array([sum(perceptronNodes[(rowNum * 15) : ((rowNum * 15) + 15)]) for rowNum in range(2)]).reshape(2, 1)\n",
        "\n",
        "    #Checking the calculated prediction\n",
        "    if int(np.argmax(sumNodes)) == trueOutput:\n",
        "        accuracyCount += 1 #updates the accuracy count if the prediction is right\n",
        "\n",
        "    testingProgress.update(1) #updates testing progress bar\n",
        "\n",
        "print(\"\\nThe accuracy of the trained weights on the training set is \" + str(accuracyCount / 118.46) + \"%\") #prints percent accuracy of trained weights on the training set"
      ],
      "execution_count": 0,
      "outputs": [
        {
          "output_type": "stream",
          "text": [
            "  4%|▍         | 500/11846 [00:00<00:04, 2484.40it/s]"
          ],
          "name": "stderr"
        },
        {
          "output_type": "stream",
          "text": [
            "\n",
            "\n",
            " Training Progress:\n"
          ],
          "name": "stdout"
        },
        {
          "output_type": "stream",
          "text": [
            "  8%|▊         | 1003/11846 [00:04<9:07:46,  3.03s/it]"
          ],
          "name": "stderr"
        },
        {
          "output_type": "stream",
          "text": [
            "\n",
            "\n",
            "Trained Weights:\n",
            "['1 -1 1 -1 1 -1 -1 1 1 1 1 -1 -1 1 1 1 1 -1 1 -1 1 1 1 -1 1 1 1 1 -1 -1 1 -1 1 1 1 1 1 1 1 -1 1 1 1 1 1 1 -1 -1 1 -1 1', '1 -1 1 -1 1 -1 -1 -1 -1 1 1 1 -1 -1 1 -1 1 -1 1 -1 1 1 1 1 1 1 1 1 -1 -1 1 1 1 1 1 1 1 1 1 1 1 1 1 -1 1 1 -1 1 1 -1 -1', '1 -1 1 -1 1 -1 -1 -1 1 1 1 1 -1 1 1 -1 1 -1 1 1 -1 1 -1 1 1 1 -1 1 -1 -1 1 1 1 1 1 -1 1 1 1 1 1 1 1 1 1 1 -1 1 1 1 -1', '1 -1 1 -1 1 -1 -1 -1 -1 1 1 1 -1 1 -1 -1 -1 -1 1 1 1 1 1 1 1 1 1 1 -1 -1 1 1 1 1 1 -1 1 1 -1 -1 1 1 1 1 1 -1 -1 1 1 1 1', '1 1 1 -1 1 -1 -1 -1 -1 1 -1 -1 -1 -1 -1 -1 1 -1 1 1 1 1 -1 1 1 1 1 1 -1 -1 1 1 1 1 1 -1 1 1 1 1 1 1 1 1 1 1 -1 1 1 1 1', '1 -1 1 -1 1 -1 -1 -1 -1 1 1 1 -1 1 1 -1 -1 -1 1 -1 1 1 -1 1 1 1 1 1 -1 -1 1 1 1 1 1 -1 1 1 -1 -1 1 1 1 -1 1 1 -1 1 1 1 1', '1 1 1 -1 1 -1 -1 -1 -1 1 -1 1 -1 1 1 -1 1 -1 1 -1 1 1 -1 -1 -1 1 1 1 1 -1 1 1 1 1 1 1 1 1 -1 -1 1 1 1 1 1 1 -1 1 1 -1 -1', '1 -1 1 -1 -1 -1 -1 -1 -1 1 -1 1 -1 1 1 -1 1 -1 1 1 1 1 -1 -1 -1 1 1 1 1 -1 1 1 1 1 1 -1 1 1 1 1 1 1 1 1 1 -1 -1 1 1 1 -1', '1 -1 1 -1 1 -1 -1 1 1 1 1 1 -1 1 1 -1 -1 -1 -1 -1 1 1 -1 -1 1 1 1 1 -1 -1 1 -1 1 1 1 1 1 1 -1 1 1 1 1 1 1 1 -1 1 1 1 -1', '1 -1 1 -1 1 -1 -1 -1 1 1 1 1 -1 1 1 -1 1 -1 -1 -1 -1 1 1 -1 -1 1 1 1 -1 -1 1 -1 1 1 1 1 1 1 -1 -1 1 1 -1 1 1 1 -1 1 1 1 1', '1 -1 1 -1 1 -1 -1 -1 -1 1 1 1 -1 1 -1 -1 1 -1 -1 -1 1 1 1 1 1 1 1 1 -1 -1 1 1 1 1 -1 -1 1 1 1 1 1 1 1 1 1 1 -1 1 1 1 -1', '1 1 1 -1 1 -1 -1 -1 -1 1 1 1 -1 1 1 -1 1 -1 -1 -1 1 1 -1 -1 -1 1 1 1 -1 -1 1 -1 1 1 1 1 1 1 -1 1 1 1 -1 1 1 1 -1 1 1 1 1', '1 -1 1 -1 1 -1 -1 -1 1 1 1 -1 -1 1 1 -1 -1 -1 1 -1 1 1 -1 -1 -1 1 1 -1 1 -1 1 -1 1 1 1 1 1 1 1 1 1 1 1 1 1 1 -1 1 -1 1 1', '1 -1 1 -1 1 -1 -1 1 -1 1 -1 1 -1 1 1 -1 -1 -1 -1 -1 1 1 -1 1 1 1 -1 1 -1 -1 1 -1 1 1 1 -1 1 1 1 1 1 1 1 1 1 1 -1 1 1 1 -1', '1 -1 1 -1 1 -1 -1 -1 -1 1 1 -1 -1 -1 1 -1 -1 -1 -1 -1 -1 1 -1 -1 1 1 -1 1 1 -1 1 1 1 1 1 -1 1 1 1 -1 1 1 -1 1 1 1 -1 -1 -1 1 1', '-1 1 -1 1 -1 1 1 -1 -1 -1 1 -1 1 -1 -1 1 1 1 -1 1 -1 -1 -1 -1 -1 -1 -1 -1 1 1 -1 -1 -1 -1 -1 -1 -1 -1 -1 1 -1 -1 -1 -1 -1 -1 1 -1 -1 -1 -1', '-1 1 -1 1 -1 1 1 1 -1 -1 1 1 1 -1 -1 1 -1 1 -1 -1 -1 -1 1 -1 -1 -1 -1 -1 1 1 -1 -1 -1 -1 -1 -1 -1 -1 -1 1 -1 -1 -1 1 -1 -1 1 -1 -1 -1 -1', '-1 -1 -1 1 -1 1 1 -1 -1 -1 1 -1 1 -1 -1 1 -1 1 -1 1 -1 -1 1 1 -1 -1 -1 -1 1 1 -1 1 -1 -1 -1 -1 -1 -1 -1 -1 -1 -1 -1 1 -1 -1 1 -1 -1 -1 -1', '-1 1 -1 1 -1 1 1 -1 -1 -1 -1 -1 1 1 1 1 1 1 -1 -1 -1 -1 -1 1 -1 -1 -1 -1 1 1 -1 1 -1 -1 -1 -1 -1 -1 -1 1 -1 -1 -1 -1 -1 -1 1 -1 -1 -1 -1', '-1 1 -1 1 -1 1 1 1 -1 -1 1 -1 1 -1 -1 1 -1 1 -1 -1 -1 -1 1 -1 -1 -1 -1 -1 1 1 -1 -1 -1 -1 -1 -1 -1 -1 -1 -1 -1 -1 -1 -1 -1 -1 1 -1 -1 -1 1', '-1 1 -1 1 -1 1 1 1 -1 -1 1 -1 1 -1 1 1 -1 1 -1 -1 -1 -1 -1 -1 -1 -1 -1 -1 1 1 -1 -1 1 -1 1 -1 -1 -1 -1 -1 -1 -1 -1 -1 -1 -1 1 -1 -1 -1 1', '-1 -1 -1 1 -1 1 1 1 -1 -1 -1 -1 1 -1 -1 1 1 1 -1 -1 -1 -1 -1 -1 -1 -1 -1 -1 -1 1 -1 -1 -1 -1 -1 1 -1 -1 -1 1 -1 -1 -1 1 -1 -1 1 -1 1 -1 -1', '-1 1 -1 1 -1 1 1 -1 -1 -1 -1 -1 1 1 -1 1 -1 1 -1 -1 -1 1 1 -1 -1 -1 -1 -1 -1 1 -1 -1 -1 -1 -1 1 -1 -1 -1 1 -1 -1 -1 -1 -1 -1 1 -1 -1 -1 -1', '-1 -1 -1 1 -1 1 1 -1 -1 1 1 -1 1 1 -1 1 -1 1 -1 -1 -1 -1 1 -1 -1 -1 -1 -1 1 1 -1 -1 -1 -1 -1 -1 -1 -1 -1 1 -1 -1 -1 -1 -1 -1 1 -1 -1 -1 -1', '-1 1 -1 1 -1 1 1 -1 -1 -1 1 -1 1 -1 -1 1 1 1 -1 -1 -1 -1 -1 -1 -1 -1 -1 -1 -1 1 -1 -1 1 -1 -1 -1 -1 -1 1 1 -1 -1 -1 1 -1 -1 1 -1 -1 -1 -1', '-1 1 -1 1 -1 1 1 1 -1 -1 -1 -1 -1 -1 -1 1 -1 -1 -1 -1 -1 -1 -1 -1 -1 -1 -1 -1 -1 1 -1 1 -1 -1 -1 -1 -1 -1 -1 -1 -1 -1 -1 -1 -1 1 1 -1 1 -1 1', '-1 -1 -1 1 -1 1 1 1 -1 -1 1 1 1 -1 -1 -1 -1 -1 -1 -1 -1 1 -1 -1 -1 -1 -1 -1 1 1 -1 -1 -1 -1 1 1 -1 -1 -1 -1 -1 -1 1 -1 -1 -1 1 -1 -1 -1 -1', '-1 -1 -1 1 -1 1 1 -1 -1 1 -1 1 1 -1 -1 -1 1 1 -1 1 -1 -1 -1 -1 -1 -1 -1 1 -1 1 -1 -1 1 -1 -1 1 -1 -1 -1 1 -1 -1 -1 -1 -1 -1 1 -1 -1 -1 -1', '-1 -1 -1 1 -1 1 1 -1 -1 1 1 1 1 -1 -1 1 -1 1 -1 -1 1 -1 1 -1 -1 -1 -1 -1 -1 1 -1 -1 -1 -1 -1 -1 -1 -1 -1 -1 -1 -1 -1 1 -1 -1 1 -1 1 -1 -1', '-1 -1 -1 1 -1 1 1 -1 -1 -1 -1 -1 1 -1 -1 -1 -1 1 -1 1 1 -1 1 -1 -1 -1 -1 -1 1 1 -1 -1 -1 -1 -1 1 -1 -1 1 -1 -1 -1 -1 1 -1 -1 1 -1 -1 1 -1']\n",
            "\n",
            " Testing Progress:\n"
          ],
          "name": "stdout"
        },
        {
          "output_type": "stream",
          "text": [
            " 97%|█████████▋| 11451/11846 [00:05<00:33, 11.67it/s]"
          ],
          "name": "stderr"
        },
        {
          "output_type": "stream",
          "text": [
            "\n",
            "The accuracy of the trained weights on the training set is 91.93820698970117%\n"
          ],
          "name": "stdout"
        }
      ]
    }
  ]
}